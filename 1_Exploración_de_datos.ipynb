{
  "nbformat": 4,
  "nbformat_minor": 0,
  "metadata": {
    "colab": {
      "provenance": [],
      "include_colab_link": true
    },
    "kernelspec": {
      "name": "python3",
      "display_name": "Python 3"
    },
    "language_info": {
      "name": "python"
    }
  },
  "cells": [
    {
      "cell_type": "markdown",
      "metadata": {
        "id": "view-in-github",
        "colab_type": "text"
      },
      "source": [
        "<a href=\"https://colab.research.google.com/github/mate38a/PREDICCION_ACCIDENTALIDAD/blob/main/1_Exploraci%C3%B3n_de_datos.ipynb\" target=\"_parent\"><img src=\"https://colab.research.google.com/assets/colab-badge.svg\" alt=\"Open In Colab\"/></a>"
      ]
    },
    {
      "cell_type": "code",
      "execution_count": null,
      "metadata": {
        "id": "-pa7rDW0eTgO"
      },
      "outputs": [],
      "source": [
        "import pandas as pd\n",
        "import matplotlib.pyplot as plt\n",
        "import seaborn as sns"
      ]
    },
    {
      "cell_type": "markdown",
      "source": [
        "Se carga el archivo csv"
      ],
      "metadata": {
        "id": "Vj5dQPNtebum"
      }
    },
    {
      "cell_type": "code",
      "source": [
        "from google.colab import files\n",
        "uploaded = files.upload()\n",
        "#https://www.kaggle.com/datasets/jonbown/us-2020-traffic-accidents"
      ],
      "metadata": {
        "colab": {
          "base_uri": "https://localhost:8080/",
          "height": 73
        },
        "id": "u5rOh9BbeZ1U",
        "outputId": "4f254705-4aec-4fb1-9c0d-c07181077a5f"
      },
      "execution_count": null,
      "outputs": [
        {
          "output_type": "display_data",
          "data": {
            "text/plain": [
              "<IPython.core.display.HTML object>"
            ],
            "text/html": [
              "\n",
              "     <input type=\"file\" id=\"files-8d69ac07-9c8b-4378-8e3c-0d5ffafe4269\" name=\"files[]\" multiple disabled\n",
              "        style=\"border:none\" />\n",
              "     <output id=\"result-8d69ac07-9c8b-4378-8e3c-0d5ffafe4269\">\n",
              "      Upload widget is only available when the cell has been executed in the\n",
              "      current browser session. Please rerun this cell to enable.\n",
              "      </output>\n",
              "      <script>// Copyright 2017 Google LLC\n",
              "//\n",
              "// Licensed under the Apache License, Version 2.0 (the \"License\");\n",
              "// you may not use this file except in compliance with the License.\n",
              "// You may obtain a copy of the License at\n",
              "//\n",
              "//      http://www.apache.org/licenses/LICENSE-2.0\n",
              "//\n",
              "// Unless required by applicable law or agreed to in writing, software\n",
              "// distributed under the License is distributed on an \"AS IS\" BASIS,\n",
              "// WITHOUT WARRANTIES OR CONDITIONS OF ANY KIND, either express or implied.\n",
              "// See the License for the specific language governing permissions and\n",
              "// limitations under the License.\n",
              "\n",
              "/**\n",
              " * @fileoverview Helpers for google.colab Python module.\n",
              " */\n",
              "(function(scope) {\n",
              "function span(text, styleAttributes = {}) {\n",
              "  const element = document.createElement('span');\n",
              "  element.textContent = text;\n",
              "  for (const key of Object.keys(styleAttributes)) {\n",
              "    element.style[key] = styleAttributes[key];\n",
              "  }\n",
              "  return element;\n",
              "}\n",
              "\n",
              "// Max number of bytes which will be uploaded at a time.\n",
              "const MAX_PAYLOAD_SIZE = 100 * 1024;\n",
              "\n",
              "function _uploadFiles(inputId, outputId) {\n",
              "  const steps = uploadFilesStep(inputId, outputId);\n",
              "  const outputElement = document.getElementById(outputId);\n",
              "  // Cache steps on the outputElement to make it available for the next call\n",
              "  // to uploadFilesContinue from Python.\n",
              "  outputElement.steps = steps;\n",
              "\n",
              "  return _uploadFilesContinue(outputId);\n",
              "}\n",
              "\n",
              "// This is roughly an async generator (not supported in the browser yet),\n",
              "// where there are multiple asynchronous steps and the Python side is going\n",
              "// to poll for completion of each step.\n",
              "// This uses a Promise to block the python side on completion of each step,\n",
              "// then passes the result of the previous step as the input to the next step.\n",
              "function _uploadFilesContinue(outputId) {\n",
              "  const outputElement = document.getElementById(outputId);\n",
              "  const steps = outputElement.steps;\n",
              "\n",
              "  const next = steps.next(outputElement.lastPromiseValue);\n",
              "  return Promise.resolve(next.value.promise).then((value) => {\n",
              "    // Cache the last promise value to make it available to the next\n",
              "    // step of the generator.\n",
              "    outputElement.lastPromiseValue = value;\n",
              "    return next.value.response;\n",
              "  });\n",
              "}\n",
              "\n",
              "/**\n",
              " * Generator function which is called between each async step of the upload\n",
              " * process.\n",
              " * @param {string} inputId Element ID of the input file picker element.\n",
              " * @param {string} outputId Element ID of the output display.\n",
              " * @return {!Iterable<!Object>} Iterable of next steps.\n",
              " */\n",
              "function* uploadFilesStep(inputId, outputId) {\n",
              "  const inputElement = document.getElementById(inputId);\n",
              "  inputElement.disabled = false;\n",
              "\n",
              "  const outputElement = document.getElementById(outputId);\n",
              "  outputElement.innerHTML = '';\n",
              "\n",
              "  const pickedPromise = new Promise((resolve) => {\n",
              "    inputElement.addEventListener('change', (e) => {\n",
              "      resolve(e.target.files);\n",
              "    });\n",
              "  });\n",
              "\n",
              "  const cancel = document.createElement('button');\n",
              "  inputElement.parentElement.appendChild(cancel);\n",
              "  cancel.textContent = 'Cancel upload';\n",
              "  const cancelPromise = new Promise((resolve) => {\n",
              "    cancel.onclick = () => {\n",
              "      resolve(null);\n",
              "    };\n",
              "  });\n",
              "\n",
              "  // Wait for the user to pick the files.\n",
              "  const files = yield {\n",
              "    promise: Promise.race([pickedPromise, cancelPromise]),\n",
              "    response: {\n",
              "      action: 'starting',\n",
              "    }\n",
              "  };\n",
              "\n",
              "  cancel.remove();\n",
              "\n",
              "  // Disable the input element since further picks are not allowed.\n",
              "  inputElement.disabled = true;\n",
              "\n",
              "  if (!files) {\n",
              "    return {\n",
              "      response: {\n",
              "        action: 'complete',\n",
              "      }\n",
              "    };\n",
              "  }\n",
              "\n",
              "  for (const file of files) {\n",
              "    const li = document.createElement('li');\n",
              "    li.append(span(file.name, {fontWeight: 'bold'}));\n",
              "    li.append(span(\n",
              "        `(${file.type || 'n/a'}) - ${file.size} bytes, ` +\n",
              "        `last modified: ${\n",
              "            file.lastModifiedDate ? file.lastModifiedDate.toLocaleDateString() :\n",
              "                                    'n/a'} - `));\n",
              "    const percent = span('0% done');\n",
              "    li.appendChild(percent);\n",
              "\n",
              "    outputElement.appendChild(li);\n",
              "\n",
              "    const fileDataPromise = new Promise((resolve) => {\n",
              "      const reader = new FileReader();\n",
              "      reader.onload = (e) => {\n",
              "        resolve(e.target.result);\n",
              "      };\n",
              "      reader.readAsArrayBuffer(file);\n",
              "    });\n",
              "    // Wait for the data to be ready.\n",
              "    let fileData = yield {\n",
              "      promise: fileDataPromise,\n",
              "      response: {\n",
              "        action: 'continue',\n",
              "      }\n",
              "    };\n",
              "\n",
              "    // Use a chunked sending to avoid message size limits. See b/62115660.\n",
              "    let position = 0;\n",
              "    do {\n",
              "      const length = Math.min(fileData.byteLength - position, MAX_PAYLOAD_SIZE);\n",
              "      const chunk = new Uint8Array(fileData, position, length);\n",
              "      position += length;\n",
              "\n",
              "      const base64 = btoa(String.fromCharCode.apply(null, chunk));\n",
              "      yield {\n",
              "        response: {\n",
              "          action: 'append',\n",
              "          file: file.name,\n",
              "          data: base64,\n",
              "        },\n",
              "      };\n",
              "\n",
              "      let percentDone = fileData.byteLength === 0 ?\n",
              "          100 :\n",
              "          Math.round((position / fileData.byteLength) * 100);\n",
              "      percent.textContent = `${percentDone}% done`;\n",
              "\n",
              "    } while (position < fileData.byteLength);\n",
              "  }\n",
              "\n",
              "  // All done.\n",
              "  yield {\n",
              "    response: {\n",
              "      action: 'complete',\n",
              "    }\n",
              "  };\n",
              "}\n",
              "\n",
              "scope.google = scope.google || {};\n",
              "scope.google.colab = scope.google.colab || {};\n",
              "scope.google.colab._files = {\n",
              "  _uploadFiles,\n",
              "  _uploadFilesContinue,\n",
              "};\n",
              "})(self);\n",
              "</script> "
            ]
          },
          "metadata": {}
        },
        {
          "output_type": "stream",
          "name": "stdout",
          "text": [
            "Saving acc_20.csv to acc_20.csv\n"
          ]
        }
      ]
    },
    {
      "cell_type": "markdown",
      "source": [
        "LECTURA DEL ARCHIVO"
      ],
      "metadata": {
        "id": "w_NPCcLEhRVg"
      }
    },
    {
      "cell_type": "code",
      "source": [
        "import pandas as pd\n",
        "\n",
        "# Carga el archivo CSV desde la variable 'uploaded'\n",
        "data = pd.read_csv('acc_20.csv')\n",
        "\n"
      ],
      "metadata": {
        "id": "dATYlbKEg59e"
      },
      "execution_count": null,
      "outputs": []
    },
    {
      "cell_type": "markdown",
      "source": [
        "Hay que hacer una limpieza de datos"
      ],
      "metadata": {
        "id": "BWz1SLLH4vzX"
      }
    },
    {
      "cell_type": "code",
      "source": [
        "import pandas as pd\n",
        "\n",
        "# Cargar tu conjunto de datos\n",
        "df = pd.read_csv('acc_20.csv')\n",
        "\n",
        "# Obtener los nombres de las columnas\n",
        "columnas = df.columns\n",
        "\n",
        "# Imprimir los nombres de las columnas\n",
        "print(columnas)"
      ],
      "metadata": {
        "colab": {
          "base_uri": "https://localhost:8080/"
        },
        "id": "-mG5Rsa_5Tbh",
        "outputId": "b9f7c01a-7b3a-45f4-c7d8-3b5b9dca166a"
      },
      "execution_count": null,
      "outputs": [
        {
          "output_type": "stream",
          "name": "stdout",
          "text": [
            "Index(['CASENUM', 'STRATUM', 'STRATUMNAME', 'REGION', 'REGIONNAME', 'PSU',\n",
            "       'PJ', 'PSU_VAR', 'URBANICITY', 'URBANICITYNAME', 'VE_TOTAL', 'VE_FORMS',\n",
            "       'PVH_INVL', 'PEDS', 'PERMVIT', 'PERNOTMVIT', 'NUM_INJ', 'NUM_INJNAME',\n",
            "       'MONTH', 'MONTHNAME', 'YEAR', 'YEARNAME', 'DAY_WEEK', 'DAY_WEEKNAME',\n",
            "       'HOUR', 'HOURNAME', 'MINUTE', 'MINUTENAME', 'HARM_EV', 'HARM_EVNAME',\n",
            "       'ALCOHOL', 'ALCOHOLNAME', 'MAX_SEV', 'MAX_SEVNAME', 'MAN_COLL',\n",
            "       'MAN_COLLNAME', 'RELJCT1', 'RELJCT1NAME', 'RELJCT2', 'RELJCT2NAME',\n",
            "       'TYP_INT', 'TYP_INTNAME', 'WRK_ZONE', 'WRK_ZONENAME', 'REL_ROAD',\n",
            "       'REL_ROADNAME', 'LGT_COND', 'LGT_CONDNAME', 'SCH_BUS', 'SCH_BUSNAME',\n",
            "       'INT_HWY', 'INT_HWYNAME', 'WEATHER', 'WEATHERNAME', 'WKDY_IM',\n",
            "       'WKDY_IMNAME', 'HOUR_IM', 'HOUR_IMNAME', 'MINUTE_IM', 'MINUTE_IMNAME',\n",
            "       'EVENT1_IM', 'EVENT1_IMNAME', 'MANCOL_IM', 'MANCOL_IMNAME',\n",
            "       'RELJCT1_IM', 'RELJCT1_IMNAME', 'RELJCT2_IM', 'RELJCT2_IMNAME',\n",
            "       'LGTCON_IM', 'LGTCON_IMNAME', 'WEATHR_IM', 'WEATHR_IMNAME', 'MAXSEV_IM',\n",
            "       'MAXSEV_IMNAME', 'NO_INJ_IM', 'NO_INJ_IMNAME', 'ALCHL_IM',\n",
            "       'ALCHL_IMNAME', 'PSUSTRAT', 'WEIGHT'],\n",
            "      dtype='object')\n"
          ]
        }
      ]
    },
    {
      "cell_type": "markdown",
      "source": [
        "Análisis Exploratorio de Datos (EDA)\n",
        "\n",
        "El primer paso en la limpieza de datos es explorarlos y entender qué tipo de limpieza necesitan."
      ],
      "metadata": {
        "id": "PmmlscKn7NGM"
      }
    },
    {
      "cell_type": "code",
      "source": [
        "# Obtener información básica sobre el conjunto de datos\n",
        "df.info()\n",
        "\n",
        "# Estadísticas descriptivas\n",
        "print(df.describe())\n",
        "\n",
        "# Contar valores nulos\n",
        "print(df.isnull().sum())"
      ],
      "metadata": {
        "id": "Cnbs1K-M7K59"
      },
      "execution_count": null,
      "outputs": []
    },
    {
      "cell_type": "markdown",
      "source": [
        "Manejo de valores faltantes\n",
        "\n",
        "Si hay valores faltantes en tu conjunto de datos, tienes varias opciones: eliminarlos, imputarlos con un valor estadísticamente relevante (como la media o la mediana), o imputarlos utilizando métodos más avanzados (como la imputación K-NN o MICE)."
      ],
      "metadata": {
        "id": "j_oGi4zu7RxO"
      }
    },
    {
      "cell_type": "code",
      "source": [
        "# Eliminar filas con valores nulos\n",
        "# df.dropna(inplace=True)\n",
        "\n",
        "# O imputar valores faltantes\n",
        "# Por ejemplo, rellenar con la media\n",
        "# df.fillna(df.mean(), inplace=True)"
      ],
      "metadata": {
        "id": "N9jKNPy47UXF"
      },
      "execution_count": null,
      "outputs": []
    },
    {
      "cell_type": "markdown",
      "source": [
        "Codificación de variables categóricas\n",
        "\n",
        "Si tienes variables categóricas y planeas usar algoritmos que solo aceptan características numéricas, necesitarás codificar estas categorías en números."
      ],
      "metadata": {
        "id": "8KykSf227W73"
      }
    },
    {
      "cell_type": "code",
      "source": [
        "# Asumiendo que 'REGIONNAME', 'URBANICITYNAME', etc., son características categóricas, podríamos usar codificación one-hot\n",
        "df_encoded = pd.get_dummies(df, columns=['CASENUM', 'STRATUM', 'STRATUMNAME', 'REGION', 'REGIONNAME', 'PSU',\n",
        "       'PJ', 'PSU_VAR', 'URBANICITY', 'URBANICITYNAME', 'VE_TOTAL', 'VE_FORMS',\n",
        "       'PVH_INVL', 'PEDS', 'PERMVIT', 'PERNOTMVIT', 'NUM_INJ', 'NUM_INJNAME',\n",
        "       'MONTH', 'MONTHNAME', 'YEAR', 'YEARNAME', 'DAY_WEEK', 'DAY_WEEKNAME',\n",
        "       'HOUR', 'HOURNAME', 'MINUTE', 'MINUTENAME', 'HARM_EV', 'HARM_EVNAME',\n",
        "       'ALCOHOL', 'ALCOHOLNAME', 'MAX_SEV', 'MAX_SEVNAME', 'MAN_COLL',\n",
        "       'MAN_COLLNAME', 'RELJCT1', 'RELJCT1NAME', 'RELJCT2', 'RELJCT2NAME',\n",
        "       'TYP_INT', 'TYP_INTNAME', 'WRK_ZONE', 'WRK_ZONENAME', 'REL_ROAD',\n",
        "       'REL_ROADNAME', 'LGT_COND', 'LGT_CONDNAME', 'SCH_BUS', 'SCH_BUSNAME',\n",
        "       'INT_HWY', 'INT_HWYNAME', 'WEATHER', 'WEATHERNAME', 'WKDY_IM',\n",
        "       'WKDY_IMNAME', 'HOUR_IM', 'HOUR_IMNAME', 'MINUTE_IM', 'MINUTE_IMNAME',\n",
        "       'EVENT1_IM', 'EVENT1_IMNAME', 'MANCOL_IM', 'MANCOL_IMNAME',\n",
        "       'RELJCT1_IM', 'RELJCT1_IMNAME', 'RELJCT2_IM', 'RELJCT2_IMNAME',\n",
        "       'LGTCON_IM', 'LGTCON_IMNAME', 'WEATHR_IM', 'WEATHR_IMNAME', 'MAXSEV_IM',\n",
        "       'MAXSEV_IMNAME', 'NO_INJ_IM', 'NO_INJ_IMNAME', 'ALCHL_IM',\n",
        "       'ALCHL_IMNAME', 'PSUSTRAT', 'WEIGHT'])"
      ],
      "metadata": {
        "id": "gg5ksOvp7ZQV"
      },
      "execution_count": null,
      "outputs": []
    },
    {
      "cell_type": "markdown",
      "source": [
        "Eliminación de columnas irrelevantes\n",
        "\n",
        "Si hay columnas que no aportan información relevante para el análisis o modelo, o simplemente son redundantes (como tener tanto una ID como un nombre para la misma entidad), podrías considerar eliminarlas."
      ],
      "metadata": {
        "id": "mm3bXFpl7tYW"
      }
    },
    {
      "cell_type": "code",
      "source": [
        "# Eliminar columnas no deseadas\n",
        "# Asumiendo que 'CASENUM', 'STRATUM', etc., son irrelevantes\n",
        "#Hay que escoger cuales vamos a eliminar antes de correr el codigo\n",
        "df.drop([], axis=1, inplace=True)  # agrega aquí todas las columnas irrelevantes"
      ],
      "metadata": {
        "id": "2eGtsNmm7uTl"
      },
      "execution_count": null,
      "outputs": []
    },
    {
      "cell_type": "markdown",
      "source": [
        "Detección de outliers\n",
        "\n",
        "Los valores atípicos pueden afectar significativamente los resultados de tu modelo. Puedes usar métodos estadísticos para detectarlos y posiblemente eliminarlos o corregirlos."
      ],
      "metadata": {
        "id": "vj1W2jnM73Xu"
      }
    },
    {
      "cell_type": "code",
      "source": [
        "# Un método simple es encontrar cualquier dato que está más allá de 3 desviaciones estándar de la media\n",
        "# Asumiendo que 'NUM_INJ' es una característica numérica que esperamos no tenga outliers\n",
        "from scipy import stats\n",
        "import numpy as np\n",
        "\n",
        "df = df[(np.abs(stats.zscore(df['NUM_INJ'])) < 3)]"
      ],
      "metadata": {
        "id": "Sh5GSy7r76GM"
      },
      "execution_count": null,
      "outputs": []
    },
    {
      "cell_type": "markdown",
      "source": [
        "Escalado de características\n",
        "\n",
        "Algunos modelos de ML requieren que todas las características tengan la misma escala. La estandarización o normalización es una buena práctica en estos casos."
      ],
      "metadata": {
        "id": "EjKJUleQ774V"
      }
    },
    {
      "cell_type": "code",
      "source": [
        "from sklearn.preprocessing import StandardScaler\n",
        "\n",
        "# Seleccionar columnas numéricas para escalar\n",
        "num_cols = ['VE_TOTAL', 'PVH_INVL', ...]  # agrega aquí todas las columnas numéricas\n",
        "\n",
        "# Escalar características\n",
        "scaler = StandardScaler()\n",
        "df[num_cols] = scaler.fit_transform(df[num_cols])"
      ],
      "metadata": {
        "id": "JV6R4eO_79ml"
      },
      "execution_count": null,
      "outputs": []
    },
    {
      "cell_type": "code",
      "source": [
        "data.head()\n"
      ],
      "metadata": {
        "id": "YqXX-FqehbMQ"
      },
      "execution_count": null,
      "outputs": []
    },
    {
      "cell_type": "code",
      "source": [
        "data.info()"
      ],
      "metadata": {
        "id": "gaZ3l_fxhw00"
      },
      "execution_count": null,
      "outputs": []
    },
    {
      "cell_type": "code",
      "source": [
        "data.describe()"
      ],
      "metadata": {
        "id": "GfK2ELhSh6TX"
      },
      "execution_count": null,
      "outputs": []
    },
    {
      "cell_type": "code",
      "source": [
        "import matplotlib.pyplot as plt\n",
        "plt.scatter(data['WEATHR_IMNAME'], data['REGION'])\n",
        "plt.xlabel('WEATHR_IMNAME')\n",
        "plt.ylabel('REGION')\n",
        "plt.title('Diagrama de Dispersión')\n",
        "plt.show()\n"
      ],
      "metadata": {
        "id": "chQdE0WniBR-"
      },
      "execution_count": null,
      "outputs": []
    },
    {
      "cell_type": "code",
      "source": [
        "import pandas as pd\n",
        "import seaborn as sns\n",
        "import matplotlib.pyplot as plt\n",
        "\n",
        "# Carga el archivo CSV en un DataFrame\n",
        "data = pd.read_csv('acc_20.csv')\n",
        "\n",
        "# Calcula la matriz de correlación\n",
        "correlation_matrix = data.corr()\n",
        "\n",
        "# Crea una figura y un eje para el gráfico\n",
        "plt.figure(figsize=(100, 80))\n",
        "\n",
        "# Utiliza seaborn para visualizar la matriz de correlación en forma de mapa de calor\n",
        "sns.heatmap(correlation_matrix, annot=True, cmap='coolwarm', fmt=\".2f\")\n",
        "\n",
        "# Configura el título del gráfico\n",
        "plt.title('Matriz de Correlación')\n",
        "\n",
        "# Muestra el gráfico\n",
        "plt.show()\n",
        "\n"
      ],
      "metadata": {
        "id": "UV9DmCRLjHRL"
      },
      "execution_count": null,
      "outputs": []
    },
    {
      "cell_type": "code",
      "source": [
        "import pandas as pd\n",
        "\n",
        "# Reemplaza 'NombreDeTuArchivo.csv' con el nombre de tu archivo\n",
        "df = pd.read_csv('acc_20.csv')\n",
        "\n",
        "# Ver las primeras filas del dataframe\n",
        "print(df.head())"
      ],
      "metadata": {
        "id": "gPjXYzMJ2zhB"
      },
      "execution_count": null,
      "outputs": []
    },
    {
      "cell_type": "markdown",
      "source": [
        "Grafica circular"
      ],
      "metadata": {
        "id": "9DgWJ3Fm8Y1s"
      }
    },
    {
      "cell_type": "code",
      "source": [
        "import pandas as pd\n",
        "import matplotlib.pyplot as plt\n",
        "\n",
        "# Leer el conjunto de datos\n",
        "df = pd.read_csv('acc_20.csv')\n",
        "\n",
        "# Asumiendo que quieres hacer un gráfico circular de la columna \"CATEGORIA\"\n",
        "# Primero, necesitamos el conteo de cada categoría\n",
        "conteo_categorias = df['CATEGORIA'].value_counts()\n",
        "\n",
        "# Crear la gráfica circular\n",
        "plt.figure(figsize=(10, 7)) # tamaño de la figura, puedes ajustarlo según tus necesidades\n",
        "plt.pie(conteo_categorias, labels = conteo_categorias.index, autopct='%1.1f%%') # autopct para mostrar porcentajes\n",
        "plt.title('Distribución de CATEGORIA') # cambia 'CATEGORIA' por el nombre real de tu columna\n",
        "plt.show()\n"
      ],
      "metadata": {
        "id": "T0NrRsRQ8aR2"
      },
      "execution_count": null,
      "outputs": []
    }
  ]
}